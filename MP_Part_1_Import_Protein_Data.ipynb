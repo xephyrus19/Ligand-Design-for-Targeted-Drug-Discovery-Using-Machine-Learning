{
  "cells": [
    {
      "cell_type": "markdown",
      "metadata": {
        "id": "wSFbIMb87cHu"
      },
      "source": [
        "# MAJOR PROJECT - Interaction-Based Ligand Prediction for Targeted Drug Discovery [Part 1]\n",
        "\n",
        "\n",
        "Bioactivity Data\n",
        "\n",
        "Ashwat Kumar Deepak Kumar\n",
        "\n",
        "We will be building a machine learning model using the ChEMBL bioactivity data.\n",
        "\n",
        "In **Part 1**, we will be performing Data Collection and Pre-Processing from the ChEMBL Database.\n",
        "\n",
        "\n",
        "\n",
        "---"
      ]
    },
    {
      "cell_type": "markdown",
      "metadata": {
        "id": "3iQiERxumDor"
      },
      "source": [
        "## **ChEMBL Database**\n",
        "\n",
        "The [*ChEMBL Database*](https://www.ebi.ac.uk/chembl/) is a database that contains curated bioactivity data of more than 2 million compounds. It is compiled from more than 76,000 documents, 1.2 million assays and the data spans 13,000 targets and 1,800 cells and 33,000 indications.\n",
        "[Data as of March 25, 2020; ChEMBL version 26]."
      ]
    },
    {
      "cell_type": "markdown",
      "metadata": {
        "id": "iryGAwAIQ4yf"
      },
      "source": [
        "## **Installing libraries**"
      ]
    },
    {
      "cell_type": "markdown",
      "metadata": {
        "id": "toGT1U_B7F2i"
      },
      "source": [
        "Install the ChEMBL web service package so that we can retrieve bioactivity data from the ChEMBL Database."
      ]
    },
    {
      "cell_type": "code",
      "execution_count": null,
      "metadata": {
        "colab": {
          "base_uri": "https://localhost:8080/"
        },
        "id": "cJGExHQBfLh7",
        "outputId": "baf8ac2f-26b5-40c4-80f8-419c107d5e29"
      },
      "outputs": [
        {
          "output_type": "stream",
          "name": "stdout",
          "text": [
            "Collecting chembl_webresource_client\n",
            "  Downloading chembl_webresource_client-0.10.9-py3-none-any.whl (55 kB)\n",
            "\u001b[?25l     \u001b[90m━━━━━━━━━━━━━━━━━━━━━━━━━━━━━━━━━━━━━━━━\u001b[0m \u001b[32m0.0/55.2 kB\u001b[0m \u001b[31m?\u001b[0m eta \u001b[36m-:--:--\u001b[0m\r\u001b[2K     \u001b[90m━━━━━━━━━━━━━━━━━━━━━━━━━━━━━━━━━━━━━━━━\u001b[0m \u001b[32m55.2/55.2 kB\u001b[0m \u001b[31m1.5 MB/s\u001b[0m eta \u001b[36m0:00:00\u001b[0m\n",
            "\u001b[?25hRequirement already satisfied: urllib3 in /usr/local/lib/python3.10/dist-packages (from chembl_webresource_client) (2.0.7)\n",
            "Requirement already satisfied: requests>=2.18.4 in /usr/local/lib/python3.10/dist-packages (from chembl_webresource_client) (2.31.0)\n",
            "Collecting requests-cache~=1.2 (from chembl_webresource_client)\n",
            "  Downloading requests_cache-1.2.0-py3-none-any.whl (61 kB)\n",
            "\u001b[2K     \u001b[90m━━━━━━━━━━━━━━━━━━━━━━━━━━━━━━━━━━━━━━━━\u001b[0m \u001b[32m61.4/61.4 kB\u001b[0m \u001b[31m4.4 MB/s\u001b[0m eta \u001b[36m0:00:00\u001b[0m\n",
            "\u001b[?25hRequirement already satisfied: easydict in /usr/local/lib/python3.10/dist-packages (from chembl_webresource_client) (1.13)\n",
            "Requirement already satisfied: charset-normalizer<4,>=2 in /usr/local/lib/python3.10/dist-packages (from requests>=2.18.4->chembl_webresource_client) (3.3.2)\n",
            "Requirement already satisfied: idna<4,>=2.5 in /usr/local/lib/python3.10/dist-packages (from requests>=2.18.4->chembl_webresource_client) (3.7)\n",
            "Requirement already satisfied: certifi>=2017.4.17 in /usr/local/lib/python3.10/dist-packages (from requests>=2.18.4->chembl_webresource_client) (2024.2.2)\n",
            "Requirement already satisfied: attrs>=21.2 in /usr/local/lib/python3.10/dist-packages (from requests-cache~=1.2->chembl_webresource_client) (23.2.0)\n",
            "Collecting cattrs>=22.2 (from requests-cache~=1.2->chembl_webresource_client)\n",
            "  Downloading cattrs-23.2.3-py3-none-any.whl (57 kB)\n",
            "\u001b[2K     \u001b[90m━━━━━━━━━━━━━━━━━━━━━━━━━━━━━━━━━━━━━━━━\u001b[0m \u001b[32m57.5/57.5 kB\u001b[0m \u001b[31m8.1 MB/s\u001b[0m eta \u001b[36m0:00:00\u001b[0m\n",
            "\u001b[?25hRequirement already satisfied: platformdirs>=2.5 in /usr/local/lib/python3.10/dist-packages (from requests-cache~=1.2->chembl_webresource_client) (4.2.2)\n",
            "Collecting url-normalize>=1.4 (from requests-cache~=1.2->chembl_webresource_client)\n",
            "  Downloading url_normalize-1.4.3-py2.py3-none-any.whl (6.8 kB)\n",
            "Requirement already satisfied: exceptiongroup>=1.1.1 in /usr/local/lib/python3.10/dist-packages (from cattrs>=22.2->requests-cache~=1.2->chembl_webresource_client) (1.2.1)\n",
            "Requirement already satisfied: typing-extensions!=4.6.3,>=4.1.0 in /usr/local/lib/python3.10/dist-packages (from cattrs>=22.2->requests-cache~=1.2->chembl_webresource_client) (4.12.0)\n",
            "Requirement already satisfied: six in /usr/local/lib/python3.10/dist-packages (from url-normalize>=1.4->requests-cache~=1.2->chembl_webresource_client) (1.16.0)\n",
            "Installing collected packages: url-normalize, cattrs, requests-cache, chembl_webresource_client\n",
            "Successfully installed cattrs-23.2.3 chembl_webresource_client-0.10.9 requests-cache-1.2.0 url-normalize-1.4.3\n"
          ]
        }
      ],
      "source": [
        "! pip install chembl_webresource_client"
      ]
    },
    {
      "cell_type": "markdown",
      "metadata": {
        "id": "J0kJjL8gb5nX"
      },
      "source": [
        "## **Importing libraries**"
      ]
    },
    {
      "cell_type": "code",
      "execution_count": null,
      "metadata": {
        "id": "RXoCvMPPfNrv"
      },
      "outputs": [],
      "source": [
        "# Import necessary libraries\n",
        "import pandas as pd\n",
        "from chembl_webresource_client.new_client import new_client"
      ]
    },
    {
      "cell_type": "markdown",
      "metadata": {
        "id": "1FgUai1bfigC"
      },
      "source": [
        "## **Search for Target protein**"
      ]
    },
    {
      "cell_type": "markdown",
      "metadata": {
        "id": "7lBsDrD0gAqH"
      },
      "source": [
        "### **Target search for Required Protein**\n",
        "\n",
        "---\n",
        "\n"
      ]
    },
    {
      "cell_type": "code",
      "execution_count": null,
      "metadata": {
        "id": "Vxtp79so4ZjF",
        "outputId": "aa69f730-0b48-449d-a09a-7109a75ef1d9",
        "colab": {
          "base_uri": "https://localhost:8080/",
          "height": 597
        }
      },
      "outputs": [
        {
          "output_type": "execute_result",
          "data": {
            "text/plain": [
              "                                       cross_references           organism  \\\n",
              "0                                                    []       Mus musculus   \n",
              "1     [{'xref_id': 'Q14432', 'xref_name': None, 'xre...       Homo sapiens   \n",
              "2     [{'xref_id': 'Q13370', 'xref_name': None, 'xre...       Homo sapiens   \n",
              "3     [{'xref_id': 'Q9XSW7', 'xref_name': None, 'xre...         Sus scrofa   \n",
              "4     [{'xref_id': 'E1BN64', 'xref_name': None, 'xre...         Bos taurus   \n",
              "...                                                 ...                ...   \n",
              "1483                                                 []       Homo sapiens   \n",
              "1484                                                 []       Homo sapiens   \n",
              "1485                                                 []  Rattus norvegicus   \n",
              "1486                                                 []       Homo sapiens   \n",
              "1487                                                 []       Homo sapiens   \n",
              "\n",
              "                                              pref_name  score  \\\n",
              "0                                                Kinase   16.0   \n",
              "1                                  Phosphodiesterase 3A    9.0   \n",
              "2                                  Phosphodiesterase 3B    9.0   \n",
              "3                                  Phosphodiesterase 3A    9.0   \n",
              "4                                  Phosphodiesterase 3B    9.0   \n",
              "...                                                 ...    ...   \n",
              "1483  Heat shock protein HSP 90-beta/Hsp90 co-chaper...    2.0   \n",
              "1484                               mTOR/FKBP12A/FKBP12B    2.0   \n",
              "1485                           TGF-beta receptor type-1    2.0   \n",
              "1486          RNA cytosine C(5)-methyltransferase NSUN2    2.0   \n",
              "1487         VHL/Protein arginine N-methyltransferase 5    2.0   \n",
              "\n",
              "      species_group_flag target_chembl_id  \\\n",
              "0                  False    CHEMBL3714704   \n",
              "1                  False        CHEMBL241   \n",
              "2                  False        CHEMBL290   \n",
              "3                  False       CHEMBL3061   \n",
              "4                  False       CHEMBL5129   \n",
              "...                  ...              ...   \n",
              "1483               False    CHEMBL4296081   \n",
              "1484               False    CHEMBL4296662   \n",
              "1485               False    CHEMBL4523265   \n",
              "1486               False    CHEMBL4739683   \n",
              "1487               False    CHEMBL4748215   \n",
              "\n",
              "                                      target_components  \\\n",
              "0     [{'accession': 'B2RXC2', 'component_descriptio...   \n",
              "1     [{'accession': 'Q14432', 'component_descriptio...   \n",
              "2     [{'accession': 'Q13370', 'component_descriptio...   \n",
              "3     [{'accession': 'Q9XSW7', 'component_descriptio...   \n",
              "4     [{'accession': 'E1BN64', 'component_descriptio...   \n",
              "...                                                 ...   \n",
              "1483  [{'accession': 'P08238', 'component_descriptio...   \n",
              "1484  [{'accession': 'P62942', 'component_descriptio...   \n",
              "1485  [{'accession': 'P80204', 'component_descriptio...   \n",
              "1486  [{'accession': 'Q08J23', 'component_descriptio...   \n",
              "1487  [{'accession': 'O14744', 'component_descriptio...   \n",
              "\n",
              "                      target_type  tax_id  \n",
              "0                  SINGLE PROTEIN   10090  \n",
              "1                  SINGLE PROTEIN    9606  \n",
              "2                  SINGLE PROTEIN    9606  \n",
              "3                  SINGLE PROTEIN    9823  \n",
              "4                  SINGLE PROTEIN    9913  \n",
              "...                           ...     ...  \n",
              "1483              PROTEIN COMPLEX    9606  \n",
              "1484              PROTEIN COMPLEX    9606  \n",
              "1485               SINGLE PROTEIN   10116  \n",
              "1486               SINGLE PROTEIN    9606  \n",
              "1487  PROTEIN-PROTEIN INTERACTION    9606  \n",
              "\n",
              "[1488 rows x 9 columns]"
            ],
            "text/html": [
              "\n",
              "  <div id=\"df-840fe53a-7ebb-439f-b4ce-d3151602ab7b\" class=\"colab-df-container\">\n",
              "    <div>\n",
              "<style scoped>\n",
              "    .dataframe tbody tr th:only-of-type {\n",
              "        vertical-align: middle;\n",
              "    }\n",
              "\n",
              "    .dataframe tbody tr th {\n",
              "        vertical-align: top;\n",
              "    }\n",
              "\n",
              "    .dataframe thead th {\n",
              "        text-align: right;\n",
              "    }\n",
              "</style>\n",
              "<table border=\"1\" class=\"dataframe\">\n",
              "  <thead>\n",
              "    <tr style=\"text-align: right;\">\n",
              "      <th></th>\n",
              "      <th>cross_references</th>\n",
              "      <th>organism</th>\n",
              "      <th>pref_name</th>\n",
              "      <th>score</th>\n",
              "      <th>species_group_flag</th>\n",
              "      <th>target_chembl_id</th>\n",
              "      <th>target_components</th>\n",
              "      <th>target_type</th>\n",
              "      <th>tax_id</th>\n",
              "    </tr>\n",
              "  </thead>\n",
              "  <tbody>\n",
              "    <tr>\n",
              "      <th>0</th>\n",
              "      <td>[]</td>\n",
              "      <td>Mus musculus</td>\n",
              "      <td>Kinase</td>\n",
              "      <td>16.0</td>\n",
              "      <td>False</td>\n",
              "      <td>CHEMBL3714704</td>\n",
              "      <td>[{'accession': 'B2RXC2', 'component_descriptio...</td>\n",
              "      <td>SINGLE PROTEIN</td>\n",
              "      <td>10090</td>\n",
              "    </tr>\n",
              "    <tr>\n",
              "      <th>1</th>\n",
              "      <td>[{'xref_id': 'Q14432', 'xref_name': None, 'xre...</td>\n",
              "      <td>Homo sapiens</td>\n",
              "      <td>Phosphodiesterase 3A</td>\n",
              "      <td>9.0</td>\n",
              "      <td>False</td>\n",
              "      <td>CHEMBL241</td>\n",
              "      <td>[{'accession': 'Q14432', 'component_descriptio...</td>\n",
              "      <td>SINGLE PROTEIN</td>\n",
              "      <td>9606</td>\n",
              "    </tr>\n",
              "    <tr>\n",
              "      <th>2</th>\n",
              "      <td>[{'xref_id': 'Q13370', 'xref_name': None, 'xre...</td>\n",
              "      <td>Homo sapiens</td>\n",
              "      <td>Phosphodiesterase 3B</td>\n",
              "      <td>9.0</td>\n",
              "      <td>False</td>\n",
              "      <td>CHEMBL290</td>\n",
              "      <td>[{'accession': 'Q13370', 'component_descriptio...</td>\n",
              "      <td>SINGLE PROTEIN</td>\n",
              "      <td>9606</td>\n",
              "    </tr>\n",
              "    <tr>\n",
              "      <th>3</th>\n",
              "      <td>[{'xref_id': 'Q9XSW7', 'xref_name': None, 'xre...</td>\n",
              "      <td>Sus scrofa</td>\n",
              "      <td>Phosphodiesterase 3A</td>\n",
              "      <td>9.0</td>\n",
              "      <td>False</td>\n",
              "      <td>CHEMBL3061</td>\n",
              "      <td>[{'accession': 'Q9XSW7', 'component_descriptio...</td>\n",
              "      <td>SINGLE PROTEIN</td>\n",
              "      <td>9823</td>\n",
              "    </tr>\n",
              "    <tr>\n",
              "      <th>4</th>\n",
              "      <td>[{'xref_id': 'E1BN64', 'xref_name': None, 'xre...</td>\n",
              "      <td>Bos taurus</td>\n",
              "      <td>Phosphodiesterase 3B</td>\n",
              "      <td>9.0</td>\n",
              "      <td>False</td>\n",
              "      <td>CHEMBL5129</td>\n",
              "      <td>[{'accession': 'E1BN64', 'component_descriptio...</td>\n",
              "      <td>SINGLE PROTEIN</td>\n",
              "      <td>9913</td>\n",
              "    </tr>\n",
              "    <tr>\n",
              "      <th>...</th>\n",
              "      <td>...</td>\n",
              "      <td>...</td>\n",
              "      <td>...</td>\n",
              "      <td>...</td>\n",
              "      <td>...</td>\n",
              "      <td>...</td>\n",
              "      <td>...</td>\n",
              "      <td>...</td>\n",
              "      <td>...</td>\n",
              "    </tr>\n",
              "    <tr>\n",
              "      <th>1483</th>\n",
              "      <td>[]</td>\n",
              "      <td>Homo sapiens</td>\n",
              "      <td>Heat shock protein HSP 90-beta/Hsp90 co-chaper...</td>\n",
              "      <td>2.0</td>\n",
              "      <td>False</td>\n",
              "      <td>CHEMBL4296081</td>\n",
              "      <td>[{'accession': 'P08238', 'component_descriptio...</td>\n",
              "      <td>PROTEIN COMPLEX</td>\n",
              "      <td>9606</td>\n",
              "    </tr>\n",
              "    <tr>\n",
              "      <th>1484</th>\n",
              "      <td>[]</td>\n",
              "      <td>Homo sapiens</td>\n",
              "      <td>mTOR/FKBP12A/FKBP12B</td>\n",
              "      <td>2.0</td>\n",
              "      <td>False</td>\n",
              "      <td>CHEMBL4296662</td>\n",
              "      <td>[{'accession': 'P62942', 'component_descriptio...</td>\n",
              "      <td>PROTEIN COMPLEX</td>\n",
              "      <td>9606</td>\n",
              "    </tr>\n",
              "    <tr>\n",
              "      <th>1485</th>\n",
              "      <td>[]</td>\n",
              "      <td>Rattus norvegicus</td>\n",
              "      <td>TGF-beta receptor type-1</td>\n",
              "      <td>2.0</td>\n",
              "      <td>False</td>\n",
              "      <td>CHEMBL4523265</td>\n",
              "      <td>[{'accession': 'P80204', 'component_descriptio...</td>\n",
              "      <td>SINGLE PROTEIN</td>\n",
              "      <td>10116</td>\n",
              "    </tr>\n",
              "    <tr>\n",
              "      <th>1486</th>\n",
              "      <td>[]</td>\n",
              "      <td>Homo sapiens</td>\n",
              "      <td>RNA cytosine C(5)-methyltransferase NSUN2</td>\n",
              "      <td>2.0</td>\n",
              "      <td>False</td>\n",
              "      <td>CHEMBL4739683</td>\n",
              "      <td>[{'accession': 'Q08J23', 'component_descriptio...</td>\n",
              "      <td>SINGLE PROTEIN</td>\n",
              "      <td>9606</td>\n",
              "    </tr>\n",
              "    <tr>\n",
              "      <th>1487</th>\n",
              "      <td>[]</td>\n",
              "      <td>Homo sapiens</td>\n",
              "      <td>VHL/Protein arginine N-methyltransferase 5</td>\n",
              "      <td>2.0</td>\n",
              "      <td>False</td>\n",
              "      <td>CHEMBL4748215</td>\n",
              "      <td>[{'accession': 'O14744', 'component_descriptio...</td>\n",
              "      <td>PROTEIN-PROTEIN INTERACTION</td>\n",
              "      <td>9606</td>\n",
              "    </tr>\n",
              "  </tbody>\n",
              "</table>\n",
              "<p>1488 rows × 9 columns</p>\n",
              "</div>\n",
              "    <div class=\"colab-df-buttons\">\n",
              "\n",
              "  <div class=\"colab-df-container\">\n",
              "    <button class=\"colab-df-convert\" onclick=\"convertToInteractive('df-840fe53a-7ebb-439f-b4ce-d3151602ab7b')\"\n",
              "            title=\"Convert this dataframe to an interactive table.\"\n",
              "            style=\"display:none;\">\n",
              "\n",
              "  <svg xmlns=\"http://www.w3.org/2000/svg\" height=\"24px\" viewBox=\"0 -960 960 960\">\n",
              "    <path d=\"M120-120v-720h720v720H120Zm60-500h600v-160H180v160Zm220 220h160v-160H400v160Zm0 220h160v-160H400v160ZM180-400h160v-160H180v160Zm440 0h160v-160H620v160ZM180-180h160v-160H180v160Zm440 0h160v-160H620v160Z\"/>\n",
              "  </svg>\n",
              "    </button>\n",
              "\n",
              "  <style>\n",
              "    .colab-df-container {\n",
              "      display:flex;\n",
              "      gap: 12px;\n",
              "    }\n",
              "\n",
              "    .colab-df-convert {\n",
              "      background-color: #E8F0FE;\n",
              "      border: none;\n",
              "      border-radius: 50%;\n",
              "      cursor: pointer;\n",
              "      display: none;\n",
              "      fill: #1967D2;\n",
              "      height: 32px;\n",
              "      padding: 0 0 0 0;\n",
              "      width: 32px;\n",
              "    }\n",
              "\n",
              "    .colab-df-convert:hover {\n",
              "      background-color: #E2EBFA;\n",
              "      box-shadow: 0px 1px 2px rgba(60, 64, 67, 0.3), 0px 1px 3px 1px rgba(60, 64, 67, 0.15);\n",
              "      fill: #174EA6;\n",
              "    }\n",
              "\n",
              "    .colab-df-buttons div {\n",
              "      margin-bottom: 4px;\n",
              "    }\n",
              "\n",
              "    [theme=dark] .colab-df-convert {\n",
              "      background-color: #3B4455;\n",
              "      fill: #D2E3FC;\n",
              "    }\n",
              "\n",
              "    [theme=dark] .colab-df-convert:hover {\n",
              "      background-color: #434B5C;\n",
              "      box-shadow: 0px 1px 3px 1px rgba(0, 0, 0, 0.15);\n",
              "      filter: drop-shadow(0px 1px 2px rgba(0, 0, 0, 0.3));\n",
              "      fill: #FFFFFF;\n",
              "    }\n",
              "  </style>\n",
              "\n",
              "    <script>\n",
              "      const buttonEl =\n",
              "        document.querySelector('#df-840fe53a-7ebb-439f-b4ce-d3151602ab7b button.colab-df-convert');\n",
              "      buttonEl.style.display =\n",
              "        google.colab.kernel.accessAllowed ? 'block' : 'none';\n",
              "\n",
              "      async function convertToInteractive(key) {\n",
              "        const element = document.querySelector('#df-840fe53a-7ebb-439f-b4ce-d3151602ab7b');\n",
              "        const dataTable =\n",
              "          await google.colab.kernel.invokeFunction('convertToInteractive',\n",
              "                                                    [key], {});\n",
              "        if (!dataTable) return;\n",
              "\n",
              "        const docLinkHtml = 'Like what you see? Visit the ' +\n",
              "          '<a target=\"_blank\" href=https://colab.research.google.com/notebooks/data_table.ipynb>data table notebook</a>'\n",
              "          + ' to learn more about interactive tables.';\n",
              "        element.innerHTML = '';\n",
              "        dataTable['output_type'] = 'display_data';\n",
              "        await google.colab.output.renderOutput(dataTable, element);\n",
              "        const docLink = document.createElement('div');\n",
              "        docLink.innerHTML = docLinkHtml;\n",
              "        element.appendChild(docLink);\n",
              "      }\n",
              "    </script>\n",
              "  </div>\n",
              "\n",
              "\n",
              "<div id=\"df-7d70ed3a-a069-439a-abb3-30f30fcb0ad7\">\n",
              "  <button class=\"colab-df-quickchart\" onclick=\"quickchart('df-7d70ed3a-a069-439a-abb3-30f30fcb0ad7')\"\n",
              "            title=\"Suggest charts\"\n",
              "            style=\"display:none;\">\n",
              "\n",
              "<svg xmlns=\"http://www.w3.org/2000/svg\" height=\"24px\"viewBox=\"0 0 24 24\"\n",
              "     width=\"24px\">\n",
              "    <g>\n",
              "        <path d=\"M19 3H5c-1.1 0-2 .9-2 2v14c0 1.1.9 2 2 2h14c1.1 0 2-.9 2-2V5c0-1.1-.9-2-2-2zM9 17H7v-7h2v7zm4 0h-2V7h2v10zm4 0h-2v-4h2v4z\"/>\n",
              "    </g>\n",
              "</svg>\n",
              "  </button>\n",
              "\n",
              "<style>\n",
              "  .colab-df-quickchart {\n",
              "      --bg-color: #E8F0FE;\n",
              "      --fill-color: #1967D2;\n",
              "      --hover-bg-color: #E2EBFA;\n",
              "      --hover-fill-color: #174EA6;\n",
              "      --disabled-fill-color: #AAA;\n",
              "      --disabled-bg-color: #DDD;\n",
              "  }\n",
              "\n",
              "  [theme=dark] .colab-df-quickchart {\n",
              "      --bg-color: #3B4455;\n",
              "      --fill-color: #D2E3FC;\n",
              "      --hover-bg-color: #434B5C;\n",
              "      --hover-fill-color: #FFFFFF;\n",
              "      --disabled-bg-color: #3B4455;\n",
              "      --disabled-fill-color: #666;\n",
              "  }\n",
              "\n",
              "  .colab-df-quickchart {\n",
              "    background-color: var(--bg-color);\n",
              "    border: none;\n",
              "    border-radius: 50%;\n",
              "    cursor: pointer;\n",
              "    display: none;\n",
              "    fill: var(--fill-color);\n",
              "    height: 32px;\n",
              "    padding: 0;\n",
              "    width: 32px;\n",
              "  }\n",
              "\n",
              "  .colab-df-quickchart:hover {\n",
              "    background-color: var(--hover-bg-color);\n",
              "    box-shadow: 0 1px 2px rgba(60, 64, 67, 0.3), 0 1px 3px 1px rgba(60, 64, 67, 0.15);\n",
              "    fill: var(--button-hover-fill-color);\n",
              "  }\n",
              "\n",
              "  .colab-df-quickchart-complete:disabled,\n",
              "  .colab-df-quickchart-complete:disabled:hover {\n",
              "    background-color: var(--disabled-bg-color);\n",
              "    fill: var(--disabled-fill-color);\n",
              "    box-shadow: none;\n",
              "  }\n",
              "\n",
              "  .colab-df-spinner {\n",
              "    border: 2px solid var(--fill-color);\n",
              "    border-color: transparent;\n",
              "    border-bottom-color: var(--fill-color);\n",
              "    animation:\n",
              "      spin 1s steps(1) infinite;\n",
              "  }\n",
              "\n",
              "  @keyframes spin {\n",
              "    0% {\n",
              "      border-color: transparent;\n",
              "      border-bottom-color: var(--fill-color);\n",
              "      border-left-color: var(--fill-color);\n",
              "    }\n",
              "    20% {\n",
              "      border-color: transparent;\n",
              "      border-left-color: var(--fill-color);\n",
              "      border-top-color: var(--fill-color);\n",
              "    }\n",
              "    30% {\n",
              "      border-color: transparent;\n",
              "      border-left-color: var(--fill-color);\n",
              "      border-top-color: var(--fill-color);\n",
              "      border-right-color: var(--fill-color);\n",
              "    }\n",
              "    40% {\n",
              "      border-color: transparent;\n",
              "      border-right-color: var(--fill-color);\n",
              "      border-top-color: var(--fill-color);\n",
              "    }\n",
              "    60% {\n",
              "      border-color: transparent;\n",
              "      border-right-color: var(--fill-color);\n",
              "    }\n",
              "    80% {\n",
              "      border-color: transparent;\n",
              "      border-right-color: var(--fill-color);\n",
              "      border-bottom-color: var(--fill-color);\n",
              "    }\n",
              "    90% {\n",
              "      border-color: transparent;\n",
              "      border-bottom-color: var(--fill-color);\n",
              "    }\n",
              "  }\n",
              "</style>\n",
              "\n",
              "  <script>\n",
              "    async function quickchart(key) {\n",
              "      const quickchartButtonEl =\n",
              "        document.querySelector('#' + key + ' button');\n",
              "      quickchartButtonEl.disabled = true;  // To prevent multiple clicks.\n",
              "      quickchartButtonEl.classList.add('colab-df-spinner');\n",
              "      try {\n",
              "        const charts = await google.colab.kernel.invokeFunction(\n",
              "            'suggestCharts', [key], {});\n",
              "      } catch (error) {\n",
              "        console.error('Error during call to suggestCharts:', error);\n",
              "      }\n",
              "      quickchartButtonEl.classList.remove('colab-df-spinner');\n",
              "      quickchartButtonEl.classList.add('colab-df-quickchart-complete');\n",
              "    }\n",
              "    (() => {\n",
              "      let quickchartButtonEl =\n",
              "        document.querySelector('#df-7d70ed3a-a069-439a-abb3-30f30fcb0ad7 button');\n",
              "      quickchartButtonEl.style.display =\n",
              "        google.colab.kernel.accessAllowed ? 'block' : 'none';\n",
              "    })();\n",
              "  </script>\n",
              "</div>\n",
              "\n",
              "  <div id=\"id_029e5c33-fb26-4970-9900-1cc9a13d8479\">\n",
              "    <style>\n",
              "      .colab-df-generate {\n",
              "        background-color: #E8F0FE;\n",
              "        border: none;\n",
              "        border-radius: 50%;\n",
              "        cursor: pointer;\n",
              "        display: none;\n",
              "        fill: #1967D2;\n",
              "        height: 32px;\n",
              "        padding: 0 0 0 0;\n",
              "        width: 32px;\n",
              "      }\n",
              "\n",
              "      .colab-df-generate:hover {\n",
              "        background-color: #E2EBFA;\n",
              "        box-shadow: 0px 1px 2px rgba(60, 64, 67, 0.3), 0px 1px 3px 1px rgba(60, 64, 67, 0.15);\n",
              "        fill: #174EA6;\n",
              "      }\n",
              "\n",
              "      [theme=dark] .colab-df-generate {\n",
              "        background-color: #3B4455;\n",
              "        fill: #D2E3FC;\n",
              "      }\n",
              "\n",
              "      [theme=dark] .colab-df-generate:hover {\n",
              "        background-color: #434B5C;\n",
              "        box-shadow: 0px 1px 3px 1px rgba(0, 0, 0, 0.15);\n",
              "        filter: drop-shadow(0px 1px 2px rgba(0, 0, 0, 0.3));\n",
              "        fill: #FFFFFF;\n",
              "      }\n",
              "    </style>\n",
              "    <button class=\"colab-df-generate\" onclick=\"generateWithVariable('targets')\"\n",
              "            title=\"Generate code using this dataframe.\"\n",
              "            style=\"display:none;\">\n",
              "\n",
              "  <svg xmlns=\"http://www.w3.org/2000/svg\" height=\"24px\"viewBox=\"0 0 24 24\"\n",
              "       width=\"24px\">\n",
              "    <path d=\"M7,19H8.4L18.45,9,17,7.55,7,17.6ZM5,21V16.75L18.45,3.32a2,2,0,0,1,2.83,0l1.4,1.43a1.91,1.91,0,0,1,.58,1.4,1.91,1.91,0,0,1-.58,1.4L9.25,21ZM18.45,9,17,7.55Zm-12,3A5.31,5.31,0,0,0,4.9,8.1,5.31,5.31,0,0,0,1,6.5,5.31,5.31,0,0,0,4.9,4.9,5.31,5.31,0,0,0,6.5,1,5.31,5.31,0,0,0,8.1,4.9,5.31,5.31,0,0,0,12,6.5,5.46,5.46,0,0,0,6.5,12Z\"/>\n",
              "  </svg>\n",
              "    </button>\n",
              "    <script>\n",
              "      (() => {\n",
              "      const buttonEl =\n",
              "        document.querySelector('#id_029e5c33-fb26-4970-9900-1cc9a13d8479 button.colab-df-generate');\n",
              "      buttonEl.style.display =\n",
              "        google.colab.kernel.accessAllowed ? 'block' : 'none';\n",
              "\n",
              "      buttonEl.onclick = () => {\n",
              "        google.colab.notebook.generateWithVariable('targets');\n",
              "      }\n",
              "      })();\n",
              "    </script>\n",
              "  </div>\n",
              "\n",
              "    </div>\n",
              "  </div>\n"
            ],
            "application/vnd.google.colaboratory.intrinsic+json": {
              "type": "dataframe",
              "variable_name": "targets",
              "summary": "{\n  \"name\": \"targets\",\n  \"rows\": 1488,\n  \"fields\": [\n    {\n      \"column\": \"cross_references\",\n      \"properties\": {\n        \"dtype\": \"object\",\n        \"semantic_type\": \"\",\n        \"description\": \"\"\n      }\n    },\n    {\n      \"column\": \"organism\",\n      \"properties\": {\n        \"dtype\": \"category\",\n        \"num_unique_values\": 92,\n        \"samples\": [\n          \"Varicella-zoster virus\",\n          \"Leishmania mexicana\",\n          \"Listeria monocytogenes serovar 1/2a (strain ATCC BAA-679 / EGD-e)\"\n        ],\n        \"semantic_type\": \"\",\n        \"description\": \"\"\n      }\n    },\n    {\n      \"column\": \"pref_name\",\n      \"properties\": {\n        \"dtype\": \"string\",\n        \"num_unique_values\": 1213,\n        \"samples\": [\n          \"Serine/threonine-protein kinase TAO2\",\n          \"Serine-protein kinase ATM\",\n          \"Mitogen-activated protein kinase kinase kinase 12\"\n        ],\n        \"semantic_type\": \"\",\n        \"description\": \"\"\n      }\n    },\n    {\n      \"column\": \"score\",\n      \"properties\": {\n        \"dtype\": \"number\",\n        \"std\": 0.9055589962501198,\n        \"min\": 2.0,\n        \"max\": 16.0,\n        \"num_unique_values\": 8,\n        \"samples\": [\n          9.0,\n          4.0,\n          16.0\n        ],\n        \"semantic_type\": \"\",\n        \"description\": \"\"\n      }\n    },\n    {\n      \"column\": \"species_group_flag\",\n      \"properties\": {\n        \"dtype\": \"boolean\",\n        \"num_unique_values\": 1,\n        \"samples\": [\n          false\n        ],\n        \"semantic_type\": \"\",\n        \"description\": \"\"\n      }\n    },\n    {\n      \"column\": \"target_chembl_id\",\n      \"properties\": {\n        \"dtype\": \"string\",\n        \"num_unique_values\": 1488,\n        \"samples\": [\n          \"CHEMBL3648\"\n        ],\n        \"semantic_type\": \"\",\n        \"description\": \"\"\n      }\n    },\n    {\n      \"column\": \"target_components\",\n      \"properties\": {\n        \"dtype\": \"object\",\n        \"semantic_type\": \"\",\n        \"description\": \"\"\n      }\n    },\n    {\n      \"column\": \"target_type\",\n      \"properties\": {\n        \"dtype\": \"category\",\n        \"num_unique_values\": 9,\n        \"samples\": [\n          \"UNKNOWN\"\n        ],\n        \"semantic_type\": \"\",\n        \"description\": \"\"\n      }\n    },\n    {\n      \"column\": \"tax_id\",\n      \"properties\": {\n        \"dtype\": \"number\",\n        \"std\": 77813,\n        \"min\": 562,\n        \"max\": 1193576,\n        \"num_unique_values\": 88,\n        \"samples\": [\n          10376\n        ],\n        \"semantic_type\": \"\",\n        \"description\": \"\"\n      }\n    }\n  ]\n}"
            }
          },
          "metadata": {},
          "execution_count": 8
        }
      ],
      "source": [
        "# Target search for target\n",
        "target = new_client.target\n",
        "target_query = target.search('kinase')\n",
        "targets = pd.DataFrame.from_dict(target_query)\n",
        "targets"
      ]
    },
    {
      "cell_type": "code",
      "execution_count": null,
      "metadata": {
        "colab": {
          "base_uri": "https://localhost:8080/"
        },
        "id": "bOLYTYgsP5qm",
        "outputId": "5c86f27e-eb15-466d-d7d5-169363d2822f"
      },
      "outputs": [
        {
          "output_type": "stream",
          "name": "stdout",
          "text": [
            "Drive already mounted at /content/drive; to attempt to forcibly remount, call drive.mount(\"/content/drive\", force_remount=True).\n"
          ]
        }
      ],
      "source": [
        "from google.colab import drive\n",
        "drive.mount('/content/drive')"
      ]
    },
    {
      "cell_type": "markdown",
      "metadata": {
        "id": "Y5OPfEALjAfZ"
      },
      "source": [
        "### **Select and retrieve bioactivity data for *Human Acetylcholinesterase* (first entry)**"
      ]
    },
    {
      "cell_type": "markdown",
      "metadata": {
        "id": "gSQ3aroOgML7"
      },
      "source": [
        "We will assign the fifth entry (which corresponds to the target protein, *Human Acetylcholinesterase*) to the ***selected_target*** variable"
      ]
    },
    {
      "cell_type": "code",
      "execution_count": null,
      "metadata": {
        "colab": {
          "base_uri": "https://localhost:8080/",
          "height": 35
        },
        "id": "StrcHMVLha7u",
        "outputId": "7dcd02c1-b900-4c93-aff9-c3566774ddc6"
      },
      "outputs": [
        {
          "output_type": "execute_result",
          "data": {
            "text/plain": [
              "'CHEMBL3714704'"
            ],
            "application/vnd.google.colaboratory.intrinsic+json": {
              "type": "string"
            }
          },
          "metadata": {},
          "execution_count": 7
        }
      ],
      "source": [
        "selected_target = targets.target_chembl_id[0]\n",
        "selected_target"
      ]
    },
    {
      "cell_type": "markdown",
      "metadata": {
        "id": "GWd2DRalgjzB"
      },
      "source": [
        "Here, we will retrieve only bioactivity data for *Human Acetylcholinesterase* (CHEMBL220) that are reported as pChEMBL values."
      ]
    },
    {
      "cell_type": "code",
      "execution_count": null,
      "metadata": {
        "colab": {
          "background_save": true
        },
        "id": "LeFbV_CsSP8D"
      },
      "outputs": [],
      "source": [
        "activity = new_client.activity\n",
        "res = activity.filter(target_chembl_id=selected_target).filter(standard_type=\"IC50\")"
      ]
    },
    {
      "cell_type": "code",
      "execution_count": null,
      "metadata": {
        "colab": {
          "background_save": true
        },
        "id": "LrzAcEFnYzBY"
      },
      "outputs": [],
      "source": [
        "df = pd.DataFrame.from_dict(res)"
      ]
    },
    {
      "cell_type": "code",
      "execution_count": null,
      "metadata": {
        "colab": {
          "background_save": true
        },
        "id": "s9iUAXFdSkoM"
      },
      "outputs": [],
      "source": [
        "df"
      ]
    },
    {
      "cell_type": "markdown",
      "metadata": {
        "id": "fQ78N26Fg15T"
      },
      "source": [
        "Finally we will save the resulting bioactivity data to a CSV file **bioactivity_data.csv**."
      ]
    },
    {
      "cell_type": "code",
      "execution_count": null,
      "metadata": {
        "colab": {
          "background_save": true
        },
        "id": "ZvUUEIVxTOH1"
      },
      "outputs": [],
      "source": [
        "df.to_csv('acetylcholinesterase_01_bioactivity_data_raw.csv', index=False)"
      ]
    },
    {
      "cell_type": "markdown",
      "metadata": {
        "id": "_GXMpFNUOn_8"
      },
      "source": [
        "## **Handling missing data**\n",
        "If any compounds has missing value for the **standard_value** and **canonical_smiles** column then drop it."
      ]
    },
    {
      "cell_type": "code",
      "execution_count": null,
      "metadata": {
        "colab": {
          "background_save": true
        },
        "id": "hkVOdk6ZR396"
      },
      "outputs": [],
      "source": [
        "df2 = df[df.standard_value.notna()]\n",
        "df2 = df2[df.canonical_smiles.notna()]\n",
        "df2"
      ]
    },
    {
      "cell_type": "code",
      "execution_count": null,
      "metadata": {
        "colab": {
          "background_save": true
        },
        "id": "wCkuaeVNbdtM"
      },
      "outputs": [],
      "source": [
        "len(df2.canonical_smiles.unique())"
      ]
    },
    {
      "cell_type": "code",
      "execution_count": null,
      "metadata": {
        "colab": {
          "background_save": true
        },
        "id": "JbAK3K7wclkS"
      },
      "outputs": [],
      "source": [
        "df2_nr = df2.drop_duplicates(['canonical_smiles'])\n",
        "len(df2_nr)\n",
        "df2_nr"
      ]
    },
    {
      "cell_type": "markdown",
      "metadata": {
        "id": "5H4sSFAWhV9B"
      },
      "source": [
        "## **Data pre-processing of the bioactivity data**"
      ]
    },
    {
      "cell_type": "markdown",
      "metadata": {
        "id": "Nv2dzid_hzKd"
      },
      "source": [
        "### **Combine the 3 columns (molecule_chembl_id,canonical_smiles,standard_value) and bioactivity_class into a DataFrame**"
      ]
    },
    {
      "cell_type": "code",
      "execution_count": null,
      "metadata": {
        "colab": {
          "background_save": true
        },
        "id": "0NCLYmrASgha"
      },
      "outputs": [],
      "source": [
        "selection = ['molecule_chembl_id','canonical_smiles','standard_value']\n",
        "df3 = df2_nr[selection]\n",
        "df3"
      ]
    },
    {
      "cell_type": "markdown",
      "metadata": {
        "id": "d0ObVWGmkj_L"
      },
      "source": [
        "Saves dataframe to CSV file"
      ]
    },
    {
      "cell_type": "code",
      "execution_count": null,
      "metadata": {
        "colab": {
          "background_save": true
        },
        "id": "pAzJTVu4kMd_"
      },
      "outputs": [],
      "source": [
        "df3.to_csv('acetylcholinesterase_02_bioactivity_data_preprocessed.csv', index=False)"
      ]
    },
    {
      "cell_type": "markdown",
      "metadata": {
        "id": "tO22XVlzhkXR"
      },
      "source": [
        "### **Labeling compounds as either being active, inactive or intermediate**\n",
        "The bioactivity data is in the IC50 unit. Compounds having values of less than 1000 nM will be considered to be **active** while those greater than 10,000 nM will be considered to be **inactive**. As for those values in between 1,000 and 10,000 nM will be referred to as **intermediate**."
      ]
    },
    {
      "cell_type": "code",
      "execution_count": null,
      "metadata": {
        "colab": {
          "background_save": true
        },
        "id": "Ck9Z2M9CkRy_"
      },
      "outputs": [],
      "source": [
        "df4 = pd.read_csv('acetylcholinesterase_02_bioactivity_data_preprocessed.csv')"
      ]
    },
    {
      "cell_type": "code",
      "execution_count": null,
      "metadata": {
        "colab": {
          "background_save": true
        },
        "id": "1E8rz7oMOd-5"
      },
      "outputs": [],
      "source": [
        "bioactivity_threshold = []\n",
        "for i in df4.standard_value:\n",
        "  if float(i) >= 10000:\n",
        "    bioactivity_threshold.append(\"inactive\")\n",
        "  elif float(i) <= 1000:\n",
        "    bioactivity_threshold.append(\"active\")\n",
        "  else:\n",
        "    bioactivity_threshold.append(\"intermediate\")"
      ]
    },
    {
      "cell_type": "code",
      "execution_count": null,
      "metadata": {
        "colab": {
          "background_save": true
        },
        "id": "Li64nUiZQ-y2"
      },
      "outputs": [],
      "source": [
        "bioactivity_class = pd.Series(bioactivity_threshold, name='class')\n",
        "df5 = pd.concat([df4, bioactivity_class], axis=1)\n",
        "df5"
      ]
    },
    {
      "cell_type": "markdown",
      "metadata": {
        "id": "9tlgyexWh7YJ"
      },
      "source": [
        "Saves dataframe to CSV file"
      ]
    },
    {
      "cell_type": "code",
      "execution_count": null,
      "metadata": {
        "colab": {
          "background_save": true
        },
        "id": "nSNia7suXstR"
      },
      "outputs": [],
      "source": [
        "df5.to_csv('acetylcholinesterase_03_bioactivity_data_curated.csv', index=False)"
      ]
    },
    {
      "cell_type": "code",
      "execution_count": null,
      "metadata": {
        "colab": {
          "background_save": true
        },
        "id": "0eCQTu9MnzyH"
      },
      "outputs": [],
      "source": [
        "! zip acetylcholinesterase.zip *.csv"
      ]
    },
    {
      "cell_type": "code",
      "execution_count": null,
      "metadata": {
        "colab": {
          "background_save": true
        },
        "id": "UuZf5-MEd-H5"
      },
      "outputs": [],
      "source": [
        "! ls -l"
      ]
    },
    {
      "cell_type": "markdown",
      "metadata": {
        "id": "ZywB5K_Dlawb"
      },
      "source": [
        "---"
      ]
    }
  ],
  "metadata": {
    "colab": {
      "provenance": []
    },
    "kernelspec": {
      "display_name": "Python 3",
      "name": "python3"
    }
  },
  "nbformat": 4,
  "nbformat_minor": 0
}